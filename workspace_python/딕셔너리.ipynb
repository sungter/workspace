{
 "cells": [
  {
   "cell_type": "markdown",
   "metadata": {},
   "source": [
    "#### 딕셔너리 (dictionary)"
   ]
  },
  {
   "cell_type": "code",
   "execution_count": null,
   "metadata": {},
   "outputs": [],
   "source": [
    "# 다수의 데이터를 key와 value의 한 쌍으로 저장하는 자료형 (객체)"
   ]
  },
  {
   "cell_type": "code",
   "execution_count": 1,
   "metadata": {},
   "outputs": [
    {
     "name": "stdout",
     "output_type": "stream",
     "text": [
      "{'학번': 3, '이름': '이', '점수': 80}\n"
     ]
    }
   ],
   "source": [
    "# 딕셔너리 데이터를 생성\n",
    "dic1 = {} # 빈 딕셔너리 데이터 생성\n",
    "dic2 = { # key 값에 홀따옴표 필수!!\n",
    "  '학번' : 3,\n",
    "  '이름' : '김',\n",
    "  '점수' : 80,\n",
    "  '이름' : '이'\n",
    "}\n",
    "\n",
    "print(dic2)"
   ]
  },
  {
   "cell_type": "code",
   "execution_count": 2,
   "metadata": {},
   "outputs": [
    {
     "name": "stdout",
     "output_type": "stream",
     "text": [
      "3\n"
     ]
    }
   ],
   "source": [
    "# 딕셔너리 데이터 읽기 // ex> dic2[key값] = value값\n",
    "print(dic2['학번'])"
   ]
  },
  {
   "cell_type": "code",
   "execution_count": 4,
   "metadata": {},
   "outputs": [
    {
     "name": "stdout",
     "output_type": "stream",
     "text": [
      "{'modelName': 's20', 'price': 10000, 'color': 'red'}\n",
      "{'modelName': 's20', 'price': 5000, 'color': 'red'}\n"
     ]
    }
   ],
   "source": [
    "phone = {\n",
    "  'modelName'  : 's20',\n",
    "  'price' : 10000\n",
    "}\n",
    "# 딕셔너리 데이터 추가\n",
    "phone['color'] = 'red'\n",
    "print(phone)\n",
    "\n",
    "# 딕셔너리 데이터 변경\n",
    "phone['price'] = 5000\n",
    "print(phone)"
   ]
  },
  {
   "cell_type": "code",
   "execution_count": 5,
   "metadata": {},
   "outputs": [
    {
     "name": "stdout",
     "output_type": "stream",
     "text": [
      "{'brand': 'samsung', 'price': 1000}\n"
     ]
    }
   ],
   "source": [
    "# 딕셔너리 데이터 삭제\n",
    "monitor = {\n",
    "  'brand' : 'samsung',\n",
    "  'price' : 1000,\n",
    "  'color' : 'black'\n",
    "}\n",
    "# monitor 딕셔너리 데이터에서 color 값을 삭제\n",
    "del monitor['color']\n",
    "print(monitor)"
   ]
  },
  {
   "cell_type": "code",
   "execution_count": 14,
   "metadata": {},
   "outputs": [
    {
     "name": "stdout",
     "output_type": "stream",
     "text": [
      "key = brand\n",
      "value = samsung\n",
      "key = price\n",
      "value = 1000\n",
      "key = color\n",
      "value = black\n"
     ]
    }
   ],
   "source": [
    "monitor = {\n",
    "  'brand' : 'samsung',\n",
    "  'price' : 1000,\n",
    "  'color' : 'black'\n",
    "}\n",
    "\n",
    "# 딕셔너리 데이터를 반복 돌리면 key값만 나옴\n",
    "for e in monitor :\n",
    "  print(f'key = {e}')\n",
    "  print(f'value = {monitor[e]}')"
   ]
  },
  {
   "cell_type": "code",
   "execution_count": 15,
   "metadata": {},
   "outputs": [],
   "source": [
    "member = {\n",
    "  '이름' : '홍길동',\n",
    "  '나이' : 20,\n",
    "  '취미' : ['운동', '독서', '등산'],\n",
    "  '가족' : [\n",
    "    {\n",
    "      '관계' : '아버지',\n",
    "      '이름' : '홍빠',\n",
    "    },\n",
    "    {\n",
    "      '관계' : '어머니',\n",
    "      '이름' : '홍마'\n",
    "    }\n",
    "    ]\n",
    "}\n"
   ]
  },
  {
   "cell_type": "code",
   "execution_count": 22,
   "metadata": {},
   "outputs": [
    {
     "name": "stdout",
     "output_type": "stream",
     "text": [
      "운동\n",
      "독서\n",
      "등산\n",
      "3\n",
      "등산\n",
      "홍빠\n",
      "{'관계': '어머니', '이름': '홍마', '나이': 50}\n"
     ]
    }
   ],
   "source": [
    "# member 딕셔너리에서 모든 취미를 출력\n",
    "for i in member['취미'] :\n",
    "  print(i)\n",
    "\n",
    "# member 딕셔너리에서 취미의 갯수를 출력\n",
    "hobbyCnt = len(member['취미'])\n",
    "print(hobbyCnt)\n",
    "\n",
    "# member 딕셔너리에서 마지막 취미를 출력\n",
    "print(member['취미'][hobbyCnt - 1])\n",
    "\n",
    "# member 딕셔너리에서 아버지의 이름 출력\n",
    "print(member['가족'][0]['이름'])\n",
    "\n",
    "# member 딕셔너리에서 어머니의 나이를 추가 (나이는 50)\n",
    "member['가족'][1]['나이'] = 50\n",
    "print(member['가족'][1])"
   ]
  },
  {
   "cell_type": "code",
   "execution_count": null,
   "metadata": {},
   "outputs": [],
   "source": []
  },
  {
   "cell_type": "code",
   "execution_count": null,
   "metadata": {},
   "outputs": [],
   "source": []
  },
  {
   "cell_type": "code",
   "execution_count": null,
   "metadata": {},
   "outputs": [],
   "source": []
  },
  {
   "cell_type": "code",
   "execution_count": null,
   "metadata": {},
   "outputs": [],
   "source": []
  },
  {
   "cell_type": "code",
   "execution_count": null,
   "metadata": {},
   "outputs": [],
   "source": []
  }
 ],
 "metadata": {
  "kernelspec": {
   "display_name": "Python 3",
   "language": "python",
   "name": "python3"
  },
  "language_info": {
   "codemirror_mode": {
    "name": "ipython",
    "version": 3
   },
   "file_extension": ".py",
   "mimetype": "text/x-python",
   "name": "python",
   "nbconvert_exporter": "python",
   "pygments_lexer": "ipython3",
   "version": "3.13.2"
  }
 },
 "nbformat": 4,
 "nbformat_minor": 2
}
