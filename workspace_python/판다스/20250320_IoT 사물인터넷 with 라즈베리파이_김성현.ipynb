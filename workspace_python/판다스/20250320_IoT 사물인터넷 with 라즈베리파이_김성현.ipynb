{
 "cells": [
  {
   "cell_type": "markdown",
   "id": "960b54ab",
   "metadata": {},
   "source": [
    "# IoT 사물인터넷 with 라즈베리파이\n",
    "다음은 회사에 속한 사원들의 정보입니다.  \n",
    "주어진 코드를 이용하여 문제를 풀어보세요."
   ]
  },
  {
   "cell_type": "code",
   "execution_count": 11,
   "id": "d87dac44",
   "metadata": {},
   "outputs": [
    {
     "data": {
      "text/html": [
       "<div>\n",
       "<style scoped>\n",
       "    .dataframe tbody tr th:only-of-type {\n",
       "        vertical-align: middle;\n",
       "    }\n",
       "\n",
       "    .dataframe tbody tr th {\n",
       "        vertical-align: top;\n",
       "    }\n",
       "\n",
       "    .dataframe thead th {\n",
       "        text-align: right;\n",
       "    }\n",
       "</style>\n",
       "<table border=\"1\" class=\"dataframe\">\n",
       "  <thead>\n",
       "    <tr style=\"text-align: right;\">\n",
       "      <th></th>\n",
       "      <th>부서명</th>\n",
       "      <th>사원명</th>\n",
       "      <th>근속년수</th>\n",
       "      <th>사용언어</th>\n",
       "      <th>키</th>\n",
       "    </tr>\n",
       "    <tr>\n",
       "      <th>사원번호</th>\n",
       "      <th></th>\n",
       "      <th></th>\n",
       "      <th></th>\n",
       "      <th></th>\n",
       "      <th></th>\n",
       "    </tr>\n",
       "  </thead>\n",
       "  <tbody>\n",
       "    <tr>\n",
       "      <th>001</th>\n",
       "      <td>영업부</td>\n",
       "      <td>김자바</td>\n",
       "      <td>3</td>\n",
       "      <td>NaN</td>\n",
       "      <td>176.5</td>\n",
       "    </tr>\n",
       "    <tr>\n",
       "      <th>002</th>\n",
       "      <td>인사부</td>\n",
       "      <td>이자바</td>\n",
       "      <td>5</td>\n",
       "      <td>NaN</td>\n",
       "      <td>161.1</td>\n",
       "    </tr>\n",
       "    <tr>\n",
       "      <th>003</th>\n",
       "      <td>개발부</td>\n",
       "      <td>박자바</td>\n",
       "      <td>1</td>\n",
       "      <td>Java</td>\n",
       "      <td>158.9</td>\n",
       "    </tr>\n",
       "    <tr>\n",
       "      <th>004</th>\n",
       "      <td>개발부</td>\n",
       "      <td>정자바</td>\n",
       "      <td>2</td>\n",
       "      <td>Python</td>\n",
       "      <td>177.5</td>\n",
       "    </tr>\n",
       "    <tr>\n",
       "      <th>005</th>\n",
       "      <td>인사부</td>\n",
       "      <td>최자바</td>\n",
       "      <td>3</td>\n",
       "      <td>NaN</td>\n",
       "      <td>182.6</td>\n",
       "    </tr>\n",
       "    <tr>\n",
       "      <th>006</th>\n",
       "      <td>개발부</td>\n",
       "      <td>강자바</td>\n",
       "      <td>8</td>\n",
       "      <td>Python</td>\n",
       "      <td>166.6</td>\n",
       "    </tr>\n",
       "    <tr>\n",
       "      <th>007</th>\n",
       "      <td>영업부</td>\n",
       "      <td>윤자바</td>\n",
       "      <td>6</td>\n",
       "      <td>NaN</td>\n",
       "      <td>170.8</td>\n",
       "    </tr>\n",
       "    <tr>\n",
       "      <th>008</th>\n",
       "      <td>개발부</td>\n",
       "      <td>조자바</td>\n",
       "      <td>1</td>\n",
       "      <td>C#</td>\n",
       "      <td>174.7</td>\n",
       "    </tr>\n",
       "  </tbody>\n",
       "</table>\n",
       "</div>"
      ],
      "text/plain": [
       "      부서명  사원명  근속년수    사용언어      키\n",
       "사원번호                               \n",
       "001   영업부  김자바     3     NaN  176.5\n",
       "002   인사부  이자바     5     NaN  161.1\n",
       "003   개발부  박자바     1    Java  158.9\n",
       "004   개발부  정자바     2  Python  177.5\n",
       "005   인사부  최자바     3     NaN  182.6\n",
       "006   개발부  강자바     8  Python  166.6\n",
       "007   영업부  윤자바     6     NaN  170.8\n",
       "008   개발부  조자바     1      C#  174.7"
      ]
     },
     "execution_count": 11,
     "metadata": {},
     "output_type": "execute_result"
    }
   ],
   "source": [
    "import pandas\n",
    "import numpy as np\n",
    "data = {\n",
    "    '사원번호' : ['001', '002', '003', '004', '005', '006', '007', '008'],\n",
    "    '부서명' : ['영업부', '인사부', '개발부', '개발부','인사부', '개발부','영업부', '개발부'],\n",
    "    '사원명' : ['김자바', '이자바', '박자바', '정자바', '최자바', '강자바', '윤자바', '조자바'], # (단위 : 만 명)\n",
    "    '근속년수':[3, 5, 1, 2, 3, 8, 6, 1],\n",
    "    '사용언어':[np.nan, np.nan, 'Java', 'Python', np.nan, 'Python', np.nan, 'C#' ],\n",
    "    '키' : [176.5, 161.1, 158.9, 177.5, 182.6, 166.6, 170.8, 174.7],\n",
    "}\n",
    "#DataFrame 객체 생성\n",
    "df = pandas.DataFrame(data)\n",
    "#사원번호 컬럼을 index로 지정\n",
    "df.set_index('사원번호', inplace=True)\n",
    "df"
   ]
  },
  {
   "cell_type": "markdown",
   "id": "77001677",
   "metadata": {},
   "source": [
    "1. 전체 데이터 중 '사원명' 정보만 출력하시오."
   ]
  },
  {
   "cell_type": "code",
   "execution_count": 2,
   "id": "98bf2c8b",
   "metadata": {},
   "outputs": [
    {
     "data": {
      "text/plain": [
       "사원번호\n",
       "001    김자바\n",
       "002    이자바\n",
       "003    박자바\n",
       "004    정자바\n",
       "005    최자바\n",
       "006    강자바\n",
       "007    윤자바\n",
       "008    조자바\n",
       "Name: 사원명, dtype: object"
      ]
     },
     "execution_count": 2,
     "metadata": {},
     "output_type": "execute_result"
    }
   ],
   "source": [
    "df['사원명']"
   ]
  },
  {
   "cell_type": "markdown",
   "id": "ff945732",
   "metadata": {},
   "source": [
    "2. 전체 데이터 중에서 '부서명', '사원명', '근속년수' 정보를 출력하시오."
   ]
  },
  {
   "cell_type": "code",
   "execution_count": 3,
   "id": "0ba0b584",
   "metadata": {},
   "outputs": [
    {
     "data": {
      "text/html": [
       "<div>\n",
       "<style scoped>\n",
       "    .dataframe tbody tr th:only-of-type {\n",
       "        vertical-align: middle;\n",
       "    }\n",
       "\n",
       "    .dataframe tbody tr th {\n",
       "        vertical-align: top;\n",
       "    }\n",
       "\n",
       "    .dataframe thead th {\n",
       "        text-align: right;\n",
       "    }\n",
       "</style>\n",
       "<table border=\"1\" class=\"dataframe\">\n",
       "  <thead>\n",
       "    <tr style=\"text-align: right;\">\n",
       "      <th></th>\n",
       "      <th>부서명</th>\n",
       "      <th>사원명</th>\n",
       "      <th>근속년수</th>\n",
       "    </tr>\n",
       "    <tr>\n",
       "      <th>사원번호</th>\n",
       "      <th></th>\n",
       "      <th></th>\n",
       "      <th></th>\n",
       "    </tr>\n",
       "  </thead>\n",
       "  <tbody>\n",
       "    <tr>\n",
       "      <th>001</th>\n",
       "      <td>영업부</td>\n",
       "      <td>김자바</td>\n",
       "      <td>3</td>\n",
       "    </tr>\n",
       "    <tr>\n",
       "      <th>002</th>\n",
       "      <td>인사부</td>\n",
       "      <td>이자바</td>\n",
       "      <td>5</td>\n",
       "    </tr>\n",
       "    <tr>\n",
       "      <th>003</th>\n",
       "      <td>개발부</td>\n",
       "      <td>박자바</td>\n",
       "      <td>1</td>\n",
       "    </tr>\n",
       "    <tr>\n",
       "      <th>004</th>\n",
       "      <td>개발부</td>\n",
       "      <td>정자바</td>\n",
       "      <td>2</td>\n",
       "    </tr>\n",
       "    <tr>\n",
       "      <th>005</th>\n",
       "      <td>인사부</td>\n",
       "      <td>최자바</td>\n",
       "      <td>3</td>\n",
       "    </tr>\n",
       "    <tr>\n",
       "      <th>006</th>\n",
       "      <td>개발부</td>\n",
       "      <td>강자바</td>\n",
       "      <td>8</td>\n",
       "    </tr>\n",
       "    <tr>\n",
       "      <th>007</th>\n",
       "      <td>영업부</td>\n",
       "      <td>윤자바</td>\n",
       "      <td>6</td>\n",
       "    </tr>\n",
       "    <tr>\n",
       "      <th>008</th>\n",
       "      <td>개발부</td>\n",
       "      <td>조자바</td>\n",
       "      <td>1</td>\n",
       "    </tr>\n",
       "  </tbody>\n",
       "</table>\n",
       "</div>"
      ],
      "text/plain": [
       "      부서명  사원명  근속년수\n",
       "사원번호                \n",
       "001   영업부  김자바     3\n",
       "002   인사부  이자바     5\n",
       "003   개발부  박자바     1\n",
       "004   개발부  정자바     2\n",
       "005   인사부  최자바     3\n",
       "006   개발부  강자바     8\n",
       "007   영업부  윤자바     6\n",
       "008   개발부  조자바     1"
      ]
     },
     "execution_count": 3,
     "metadata": {},
     "output_type": "execute_result"
    }
   ],
   "source": [
    "df[['부서명', '사원명', '근속년수']]"
   ]
  },
  {
   "cell_type": "markdown",
   "id": "9cb6d45e",
   "metadata": {},
   "source": [
    "3. 개발부서에 속한 사원들의 '부서명', '사원명' 정보를 출력하시오."
   ]
  },
  {
   "cell_type": "code",
   "execution_count": 4,
   "id": "0846bd90",
   "metadata": {},
   "outputs": [
    {
     "data": {
      "text/html": [
       "<div>\n",
       "<style scoped>\n",
       "    .dataframe tbody tr th:only-of-type {\n",
       "        vertical-align: middle;\n",
       "    }\n",
       "\n",
       "    .dataframe tbody tr th {\n",
       "        vertical-align: top;\n",
       "    }\n",
       "\n",
       "    .dataframe thead th {\n",
       "        text-align: right;\n",
       "    }\n",
       "</style>\n",
       "<table border=\"1\" class=\"dataframe\">\n",
       "  <thead>\n",
       "    <tr style=\"text-align: right;\">\n",
       "      <th></th>\n",
       "      <th>부서명</th>\n",
       "      <th>사원명</th>\n",
       "    </tr>\n",
       "    <tr>\n",
       "      <th>사원번호</th>\n",
       "      <th></th>\n",
       "      <th></th>\n",
       "    </tr>\n",
       "  </thead>\n",
       "  <tbody>\n",
       "    <tr>\n",
       "      <th>003</th>\n",
       "      <td>개발부</td>\n",
       "      <td>박자바</td>\n",
       "    </tr>\n",
       "    <tr>\n",
       "      <th>004</th>\n",
       "      <td>개발부</td>\n",
       "      <td>정자바</td>\n",
       "    </tr>\n",
       "    <tr>\n",
       "      <th>006</th>\n",
       "      <td>개발부</td>\n",
       "      <td>강자바</td>\n",
       "    </tr>\n",
       "    <tr>\n",
       "      <th>008</th>\n",
       "      <td>개발부</td>\n",
       "      <td>조자바</td>\n",
       "    </tr>\n",
       "  </tbody>\n",
       "</table>\n",
       "</div>"
      ],
      "text/plain": [
       "      부서명  사원명\n",
       "사원번호          \n",
       "003   개발부  박자바\n",
       "004   개발부  정자바\n",
       "006   개발부  강자바\n",
       "008   개발부  조자바"
      ]
     },
     "execution_count": 4,
     "metadata": {},
     "output_type": "execute_result"
    }
   ],
   "source": [
    "df.loc[df['부서명'] == '개발부' , ['부서명', '사원명']]"
   ]
  },
  {
   "cell_type": "markdown",
   "id": "f91bc629",
   "metadata": {},
   "source": [
    "4. 키가 170.0 이하이거나 180.0 이상인 사원들의 '부서명', '사원명','키'를 출력하시오."
   ]
  },
  {
   "cell_type": "code",
   "execution_count": 5,
   "id": "e99f425b",
   "metadata": {},
   "outputs": [
    {
     "data": {
      "text/html": [
       "<div>\n",
       "<style scoped>\n",
       "    .dataframe tbody tr th:only-of-type {\n",
       "        vertical-align: middle;\n",
       "    }\n",
       "\n",
       "    .dataframe tbody tr th {\n",
       "        vertical-align: top;\n",
       "    }\n",
       "\n",
       "    .dataframe thead th {\n",
       "        text-align: right;\n",
       "    }\n",
       "</style>\n",
       "<table border=\"1\" class=\"dataframe\">\n",
       "  <thead>\n",
       "    <tr style=\"text-align: right;\">\n",
       "      <th></th>\n",
       "      <th>부서명</th>\n",
       "      <th>사원명</th>\n",
       "      <th>키</th>\n",
       "    </tr>\n",
       "    <tr>\n",
       "      <th>사원번호</th>\n",
       "      <th></th>\n",
       "      <th></th>\n",
       "      <th></th>\n",
       "    </tr>\n",
       "  </thead>\n",
       "  <tbody>\n",
       "    <tr>\n",
       "      <th>002</th>\n",
       "      <td>인사부</td>\n",
       "      <td>이자바</td>\n",
       "      <td>161.1</td>\n",
       "    </tr>\n",
       "    <tr>\n",
       "      <th>003</th>\n",
       "      <td>개발부</td>\n",
       "      <td>박자바</td>\n",
       "      <td>158.9</td>\n",
       "    </tr>\n",
       "    <tr>\n",
       "      <th>005</th>\n",
       "      <td>인사부</td>\n",
       "      <td>최자바</td>\n",
       "      <td>182.6</td>\n",
       "    </tr>\n",
       "    <tr>\n",
       "      <th>006</th>\n",
       "      <td>개발부</td>\n",
       "      <td>강자바</td>\n",
       "      <td>166.6</td>\n",
       "    </tr>\n",
       "  </tbody>\n",
       "</table>\n",
       "</div>"
      ],
      "text/plain": [
       "      부서명  사원명      키\n",
       "사원번호                 \n",
       "002   인사부  이자바  161.1\n",
       "003   개발부  박자바  158.9\n",
       "005   인사부  최자바  182.6\n",
       "006   개발부  강자바  166.6"
      ]
     },
     "execution_count": 5,
     "metadata": {},
     "output_type": "execute_result"
    }
   ],
   "source": [
    "df.loc[(df['키'] <= 170.0) | (df['키'] >= 180.0) , ['부서명', '사원명', '키']]"
   ]
  },
  {
   "cell_type": "markdown",
   "id": "38e406c9",
   "metadata": {},
   "source": [
    "5. 전체 데이터를 '부서명' 기준 오름차순으로 정렬 후 '사원명' 기준 내림차순으로 정렬하여 출력하시오."
   ]
  },
  {
   "cell_type": "code",
   "execution_count": 15,
   "id": "43bcb26a",
   "metadata": {},
   "outputs": [
    {
     "name": "stdout",
     "output_type": "stream",
     "text": [
      "      부서명  사원명  근속년수    사용언어      키\n",
      "사원번호                               \n",
      "008   개발부  조자바     1      C#  174.7\n",
      "004   개발부  정자바     2  Python  177.5\n",
      "003   개발부  박자바     1    Java  158.9\n",
      "006   개발부  강자바     8  Python  166.6\n",
      "007   영업부  윤자바     6     NaN  170.8\n",
      "001   영업부  김자바     3     NaN  176.5\n",
      "005   인사부  최자바     3     NaN  182.6\n",
      "002   인사부  이자바     5     NaN  161.1\n"
     ]
    }
   ],
   "source": [
    "result = df.sort_values(['부서명', '사원명'], ascending=[True, False])\n",
    "print(result)"
   ]
  },
  {
   "cell_type": "markdown",
   "id": "669b1e5b",
   "metadata": {},
   "source": [
    "6. 사용언어가 'NaN' 인 데이터를 모두 '사용언어없음'으로 바꾸고, 바뀐 내용을 저장하여 출력하시오."
   ]
  },
  {
   "cell_type": "code",
   "execution_count": 16,
   "id": "fd709e97",
   "metadata": {},
   "outputs": [
    {
     "data": {
      "text/plain": [
       "사원번호\n",
       "001    사용언어없음\n",
       "002    사용언어없음\n",
       "003      Java\n",
       "004    Python\n",
       "005    사용언어없음\n",
       "006    Python\n",
       "007    사용언어없음\n",
       "008        C#\n",
       "Name: 사용언어, dtype: object"
      ]
     },
     "execution_count": 16,
     "metadata": {},
     "output_type": "execute_result"
    }
   ],
   "source": [
    "# df['사용언어'] = df['사용언어'].fillna('사용언어없음')\n",
    "# df['사용언어']\n",
    "df.loc[df['사용언어'].isna() , ['사용언어']] = '사용언어없음'\n",
    "df['사용언어']"
   ]
  },
  {
   "cell_type": "markdown",
   "id": "6b746c2c",
   "metadata": {},
   "source": [
    "7. 개발부에 속한 사원들 중 근속년수가 1년인 사원들의 평균 키를 출력하시오."
   ]
  },
  {
   "cell_type": "code",
   "execution_count": 33,
   "id": "b1cd1c5c",
   "metadata": {},
   "outputs": [
    {
     "name": "stdout",
     "output_type": "stream",
     "text": [
      "166.8\n"
     ]
    }
   ],
   "source": [
    "newData = df.loc[(df['부서명'] == '개발부') & (df['근속년수'] == 1), ['키']]\n",
    "sumData = 0\n",
    "for e in newData['키'] : \n",
    "  sumData = sumData + e\n",
    "\n",
    "print(sumData / len(newData))"
   ]
  }
 ],
 "metadata": {
  "kernelspec": {
   "display_name": "Python 3",
   "language": "python",
   "name": "python3"
  },
  "language_info": {
   "codemirror_mode": {
    "name": "ipython",
    "version": 3
   },
   "file_extension": ".py",
   "mimetype": "text/x-python",
   "name": "python",
   "nbconvert_exporter": "python",
   "pygments_lexer": "ipython3",
   "version": "3.13.2"
  }
 },
 "nbformat": 4,
 "nbformat_minor": 5
}
