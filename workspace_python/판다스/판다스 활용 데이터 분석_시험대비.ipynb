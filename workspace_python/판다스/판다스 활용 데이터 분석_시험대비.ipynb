{
 "cells": [
  {
   "cell_type": "markdown",
   "id": "3609ab45",
   "metadata": {},
   "source": [
    "### 판다스 활용 데이터 분석"
   ]
  },
  {
   "cell_type": "markdown",
   "id": "ad1f7e5f",
   "metadata": {},
   "source": [
    "1. 키보드로 세 수를 입력받고,입력받은 세 수를 리스트에 저장하시오. 그 후 리스트에 저장된 수 중 가장 큰 수와 가장 작은 수의 차를 출력하시오."
   ]
  },
  {
   "cell_type": "code",
   "execution_count": null,
   "id": "59446e63",
   "metadata": {},
   "outputs": [
    {
     "name": "stdout",
     "output_type": "stream",
     "text": [
      "8\n"
     ]
    }
   ],
   "source": [
    "#1번 문제 풀이 작성\n",
    "result = []\n",
    "\n",
    "for i in range(0 , 3) :\n",
    "  result.append(int(input(f'{i + 1} 번째 정수 입력 : ')))\n",
    "\n",
    "maxNum = result[0]\n",
    "minNum = result[0]\n",
    "\n",
    "for e in result :\n",
    "  if maxNum < e :\n",
    "    maxNum = e\n",
    "  if minNum > e :\n",
    "    minNum = e \n",
    "  \n",
    "# maxNum = max(result)\n",
    "# minNum = min(result)\n",
    "\n",
    "print(maxNum - minNum)"
   ]
  },
  {
   "cell_type": "markdown",
   "id": "45634a8b",
   "metadata": {},
   "source": [
    "2. 매개변수로 두 개의 리스트를 받아, 두 개의 리스트에 저장된 모든 데이터의 합을 리턴하는 함수를 작성하시오.  \n",
    "EX> 두 매개변수 : [1,2,3] , [4,5,6] / 결과 : 21"
   ]
  },
  {
   "cell_type": "code",
   "execution_count": 27,
   "id": "64188f9f",
   "metadata": {},
   "outputs": [
    {
     "name": "stdout",
     "output_type": "stream",
     "text": [
      "21\n"
     ]
    }
   ],
   "source": [
    "#2번 문제 풀이 작성\n",
    "arr1 = [1, 2, 3]\n",
    "arr2 = [4, 5, 6]\n",
    "sum1 = 0\n",
    "sum2 = 0\n",
    "\n",
    "for e in arr1 :\n",
    "  sum1 = sum1 + e\n",
    "for e in arr2 :\n",
    "  sum2 = sum2 + e\n",
    "\n",
    "sumData = sum1 + sum2\n",
    "\n",
    "# sumData = sum(arr1) + sum(arr2)\n",
    "print(sumData)"
   ]
  },
  {
   "cell_type": "markdown",
   "id": "2e03b884",
   "metadata": {},
   "source": [
    "3. 매개변수로 두 개의 리스트를 받아, 두 개의 리스트에 중복으로 저장된 데이터만을 갖는  새로운 리스트를 리턴하는 함수를 작성하시오.  \n",
    "EX> 두 매개변수 : [1,3,5,7,9] , [1,2,3,4,5] / 결과 : [1,3,5]"
   ]
  },
  {
   "cell_type": "code",
   "execution_count": 28,
   "id": "06603c1d",
   "metadata": {},
   "outputs": [
    {
     "name": "stdout",
     "output_type": "stream",
     "text": [
      "[1, 3, 5]\n"
     ]
    }
   ],
   "source": [
    "#3번 문제 풀이 작성\n",
    "arr1 = [1,3,5,7,9]\n",
    "arr2 = [1,2,3,4,5]\n",
    "newArr = []\n",
    "\n",
    "for e in arr1 : \n",
    "  for i in arr2 :\n",
    "    if e == i :\n",
    "      newArr.append(e)\n",
    "\n",
    "print(newArr)"
   ]
  },
  {
   "cell_type": "markdown",
   "id": "cfde14e4",
   "metadata": {},
   "source": [
    "4. 이름, 나이, 국어점수, 영어점수, 국어점수를 데이터로 갖는 student 딕셔너리를 만드시오. 각 데이터는 키보드로 입력받아 저장하시오."
   ]
  },
  {
   "cell_type": "code",
   "execution_count": 33,
   "id": "3bec11d1",
   "metadata": {},
   "outputs": [
    {
     "data": {
      "text/plain": [
       "{'이름': '김성현', '나이': 30, '국어점수': 55, '영어점수': 85, '수학점수': 95}"
      ]
     },
     "execution_count": 33,
     "metadata": {},
     "output_type": "execute_result"
    }
   ],
   "source": [
    "#4번 문제 풀이 작성\n",
    "student = {\n",
    "  '이름' : input('이름 입력 : '),\n",
    "  '나이' : int(input('나이 입력 : ')),\n",
    "  '국어점수' : int(input('국어 점수 입력 : ')),\n",
    "  '영어점수' : int(input('영어 점수 입력 : ')),\n",
    "  '수학점수' : int(input('수학 점수 입력 : ')),\n",
    "}\n",
    "\n",
    "student"
   ]
  },
  {
   "cell_type": "markdown",
   "id": "bfdfd34d",
   "metadata": {},
   "source": [
    "5. 4번 문제에서 만든 딕셔너리 데이터에 총점 데이터를 추가하시오. 총점 데이터는 국어,영어, 수학점수의 합으로 들어가야합니다."
   ]
  },
  {
   "cell_type": "code",
   "execution_count": 43,
   "id": "98179e8a",
   "metadata": {},
   "outputs": [
    {
     "data": {
      "text/plain": [
       "{'이름': '김성현', '나이': 30, '국어점수': 55, '영어점수': 85, '수학점수': 95, '총점': 235}"
      ]
     },
     "execution_count": 43,
     "metadata": {},
     "output_type": "execute_result"
    }
   ],
   "source": [
    "#5번 문제 풀이 작성\n",
    "student['총점'] = student['국어점수'] + student['영어점수'] + student['수학점수']\n",
    "student\n"
   ]
  },
  {
   "cell_type": "markdown",
   "id": "ec5ad5ab",
   "metadata": {},
   "source": [
    "6. 아래 딕셔너리 데이터에 stu_grade라는 키를 추가하고, 해당 키의  데이터로  점수(stu_score)에 따른 등급 데이터를 저장하시오.  \n",
    "90 <= 점수      : A등급  \n",
    "80 <= 점수 < 90 : B등급  \n",
    "70 <= 점수 < 80 : C등급  \n",
    "      점수 < 70 : D등급 "
   ]
  },
  {
   "cell_type": "code",
   "execution_count": 42,
   "id": "c53fe493",
   "metadata": {},
   "outputs": [
    {
     "data": {
      "text/plain": [
       "{'stu_no': [1, 2, 3, 4, 5],\n",
       " 'stu_name': ['김자바', '이자바', '박자바', '최자바', '정자바'],\n",
       " 'stu_score': [85, 65, 70, 80, 95],\n",
       " 'stu_grade': ['B', 'D', 'C', 'B', 'A']}"
      ]
     },
     "execution_count": 42,
     "metadata": {},
     "output_type": "execute_result"
    }
   ],
   "source": [
    "class_room_data = {\n",
    "    'stu_no' : [1, 2, 3, 4, 5],\n",
    "    'stu_name' : ['김자바', '이자바', '박자바', '최자바', '정자바'],\n",
    "    'stu_score' : [85, 65, 70, 80, 95]\n",
    "}\n",
    "\n",
    "#6번 문제 풀이 작성\n",
    "class_room_data['stu_grade'] = []\n",
    "\n",
    "for e in class_room_data['stu_score'] :\n",
    "  if e >= 90 :\n",
    "    class_room_data['stu_grade'].append('A')\n",
    "  elif e >= 80 :\n",
    "    class_room_data['stu_grade'].append('B')\n",
    "  elif e >= 70 :\n",
    "    class_room_data['stu_grade'].append('C')\n",
    "  else :\n",
    "    class_room_data['stu_grade'].append('D')\n",
    "\n",
    "class_room_data"
   ]
  }
 ],
 "metadata": {
  "kernelspec": {
   "display_name": "Python 3",
   "language": "python",
   "name": "python3"
  },
  "language_info": {
   "codemirror_mode": {
    "name": "ipython",
    "version": 3
   },
   "file_extension": ".py",
   "mimetype": "text/x-python",
   "name": "python",
   "nbconvert_exporter": "python",
   "pygments_lexer": "ipython3",
   "version": "3.13.2"
  }
 },
 "nbformat": 4,
 "nbformat_minor": 5
}
