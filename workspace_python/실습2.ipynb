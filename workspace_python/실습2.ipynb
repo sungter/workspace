{
 "cells": [
  {
   "cell_type": "code",
   "execution_count": null,
   "metadata": {},
   "outputs": [
    {
     "name": "stdout",
     "output_type": "stream",
     "text": [
      "10\n"
     ]
    }
   ],
   "source": [
    "#1. 다음 리스트에서 최대값을 구하시오.\n",
    "list1 = [3, 10, 8, 7, 5]\n",
    "list1Max = 0\n",
    "\n",
    "for i in list1 :\n",
    "  if list1Max < i :\n",
    "    list1Max = i\n",
    "print(list1Max)\n",
    "\n",
    "#max함수 사용하면 편함"
   ]
  },
  {
   "cell_type": "code",
   "execution_count": null,
   "metadata": {},
   "outputs": [
    {
     "name": "stdout",
     "output_type": "stream",
     "text": [
      "54\n"
     ]
    }
   ],
   "source": [
    "#2. 다음 두 리스트에 존재하는 모든 요소의 합을 구하시오.\n",
    "list2 = [1, 3, 5]\n",
    "list3 = [10, 15, 20]\n",
    "\n",
    "sumData = 0\n",
    "for i in list2 + list3 :\n",
    "  sumData += i\n",
    "print(sumData)\n",
    "\n",
    "# sumList = sum(list2 + list3) // print(sumList) -> sum 함수 사용"
   ]
  },
  {
   "cell_type": "code",
   "execution_count": 12,
   "metadata": {},
   "outputs": [
    {
     "name": "stdout",
     "output_type": "stream",
     "text": [
      "1\n",
      "2\n",
      "5\n",
      "10\n"
     ]
    }
   ],
   "source": [
    "#3. 입력받은 정수의 약수를 모두 출력하세요\n",
    "#ex> 입력 10 -> 1, 2, 5, 10\n",
    "\n",
    "num1 = int(input('정수 입력'))\n",
    "\n",
    "for i in range(1, num1 + 1) :\n",
    "  if num1 % i == 0 :\n",
    "    print(i)"
   ]
  },
  {
   "cell_type": "code",
   "execution_count": 14,
   "metadata": {},
   "outputs": [
    {
     "name": "stdout",
     "output_type": "stream",
     "text": [
      "[2, 4, 6]\n",
      "[2, 4, 6]\n"
     ]
    }
   ],
   "source": [
    "#4. 키보드로 입력받은 세 정수 * 2한 값을 요소로 갖는 리스트를 생성하고 출력하세요.\n",
    "#ex> 입력 : 1,5,10 -> 결과 : [2, 10, 20]\n",
    "\n",
    "list4 = []\n",
    "list4.append(int(input('1 정수 입력')) * 2)\n",
    "list4.append(int(input('2 정수 입력')) * 2)\n",
    "list4.append(int(input('3 정수 입력')) * 2)\n",
    "print(list4)\n",
    "\n",
    "#풀이\n",
    "resultList = []\n",
    "for e in range(3) :\n",
    "  resultList.append(int(input(f'{e + 1}번째 정수 입력')) * 2)\n",
    "print(resultList)"
   ]
  },
  {
   "cell_type": "code",
   "execution_count": null,
   "metadata": {},
   "outputs": [
    {
     "name": "stdout",
     "output_type": "stream",
     "text": [
      "3\n"
     ]
    }
   ],
   "source": [
    "#5. 다음의 데이터에서 't' 의 갯수를 구하시오.\n",
    "#힌트 : 파이썬은 문자열도 리스트이기에 반복문을 사용할 수 있음\n",
    "data = [['brother', 'mother', 'sister']]\n",
    "\n",
    "dataCnt = 0\n",
    "for i in data[0] :\n",
    "  for e in i :\n",
    "    if e == 't' :\n",
    "      dataCnt += 1\n",
    "\n",
    "print(dataCnt)\n"
   ]
  }
 ],
 "metadata": {
  "kernelspec": {
   "display_name": "Python 3",
   "language": "python",
   "name": "python3"
  },
  "language_info": {
   "codemirror_mode": {
    "name": "ipython",
    "version": 3
   },
   "file_extension": ".py",
   "mimetype": "text/x-python",
   "name": "python",
   "nbconvert_exporter": "python",
   "pygments_lexer": "ipython3",
   "version": "3.13.2"
  }
 },
 "nbformat": 4,
 "nbformat_minor": 2
}
