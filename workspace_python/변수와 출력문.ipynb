{
 "cells": [
  {
   "cell_type": "markdown",
   "metadata": {},
   "source": [
    "#### 1. 파이썬의 출력문"
   ]
  },
  {
   "cell_type": "code",
   "execution_count": 4,
   "metadata": {},
   "outputs": [
    {
     "name": "stdout",
     "output_type": "stream",
     "text": [
      "hello\n",
      "hello\n",
      "10\n"
     ]
    }
   ],
   "source": [
    "# <- 파이썬 주석 \n",
    "# 파이썬의 출력문은 print()함수를 사용한다.\n",
    "# 문자열은 홀따옴표, 쌍따옴표 모두 사용 가능\n",
    "# 파이썬은 명령어 종료시 세미콜론(;)을 쓰지 않는다.(다만, 붙여도 오류는 안나지만 개발자 모두 안붙임)\n",
    "print('hello')\n",
    "print(\"hello\" )\n",
    "print(10)"
   ]
  },
  {
   "cell_type": "code",
   "execution_count": 16,
   "metadata": {},
   "outputs": [
    {
     "name": "stdout",
     "output_type": "stream",
     "text": [
      "23\n",
      "2.5\n",
      "2\n",
      "2\n",
      "pythonjava\n"
     ]
    }
   ],
   "source": [
    "# 파이썬의 연산 결과 출력\n",
    "print(3+5*4)\n",
    "print(10/4)     # 연산 결과가 실수면 실수로 출력\n",
    "print(10//4)    # 나눈 결과의 몫만 구할 경우 : // (나누기 2번)\n",
    "print(10 % 4)   # 나눗셈의 나머지를 계산\n",
    "print('python' + 'java')\n",
    "# print('python' + 5) # 파이썬은 문자열과 숫자 덧셈 안됨"
   ]
  },
  {
   "cell_type": "code",
   "execution_count": null,
   "metadata": {},
   "outputs": [
    {
     "name": "stdout",
     "output_type": "stream",
     "text": [
      "10 20 python\n",
      "1 1"
     ]
    }
   ],
   "source": [
    "# python의 또 다른 출력 기능\n",
    "print(10, 20, 'python')\n",
    "\n",
    "# print() 함수의 두 번째 end 매개변수 값을 지정하면,\n",
    "# 출력 후 실행할 내용을 변경할 수 있다.\n",
    "# end를 작성하지 않으면 default 값으로 end='\\n'이 들어가 있다.\n",
    "print(1, end='\\n')\n",
    "print(1, end=' ')"
   ]
  },
  {
   "cell_type": "markdown",
   "metadata": {},
   "source": [
    "#### 2. 파이썬의 변수"
   ]
  },
  {
   "cell_type": "code",
   "execution_count": 26,
   "metadata": {},
   "outputs": [
    {
     "name": "stdout",
     "output_type": "stream",
     "text": [
      "10\n",
      "10 홍길동\n"
     ]
    }
   ],
   "source": [
    "# 파이썬의 변수는 내부적으로만 자료형이 존재.\n",
    "# 변수를 선언할 때는 자료형은 작성하지 않는다.\n",
    "\n",
    "# 변수의 선언 및 초기화\n",
    "num1 = 10\n",
    "print(num1)\n",
    "\n",
    "myName = '홍길동'\n",
    "print(num1, myName)"
   ]
  },
  {
   "cell_type": "code",
   "execution_count": 27,
   "metadata": {},
   "outputs": [
    {
     "name": "stdout",
     "output_type": "stream",
     "text": [
      "10\n"
     ]
    }
   ],
   "source": [
    "# 코드 입력 셀이 달라도, 실행된 셀의 내용은 전체 셀에서 공유됨\n",
    "print(num1)"
   ]
  },
  {
   "cell_type": "code",
   "execution_count": 33,
   "metadata": {},
   "outputs": [
    {
     "name": "stdout",
     "output_type": "stream",
     "text": [
      "나이는 30 입니다.\n",
      "주소는 울산시 입니다.\n"
     ]
    }
   ],
   "source": [
    "# 출력문에서 변수 사용하기\n",
    "age = 30\n",
    "addr = '울산시'\n",
    "\n",
    "# 자바스크립트의 백틱과 같은 기능\n",
    "# -> 전체 문자의 앞 'f'문자를 입력한다.\n",
    "# 변수는 {} 안에 변수명을 기입한다.\n",
    "print(f'나이는 {age} 입니다.')\n",
    "print(f'주소는 {addr} 입니다.')"
   ]
  },
  {
   "cell_type": "code",
   "execution_count": 37,
   "metadata": {},
   "outputs": [
    {
     "name": "stdout",
     "output_type": "stream",
     "text": [
      "<class 'int'> <class 'float'> <class 'str'>\n"
     ]
    }
   ],
   "source": [
    "# 파이썬은 내부적으로 변수마다 자료형이 존재한다.\n",
    "num2 = 20\n",
    "num3 = 10.5\n",
    "strdata = 'python'\n",
    "\n",
    "# type() 함수의 매개변수에 변수를 전달하면\n",
    "# 전달된 변수의 자료형을 확인할 수 있다.\n",
    "print(type(num2), type(num3), type(strdata))"
   ]
  },
  {
   "cell_type": "code",
   "execution_count": null,
   "metadata": {},
   "outputs": [],
   "source": []
  },
  {
   "cell_type": "code",
   "execution_count": null,
   "metadata": {},
   "outputs": [],
   "source": []
  },
  {
   "cell_type": "code",
   "execution_count": null,
   "metadata": {},
   "outputs": [],
   "source": []
  },
  {
   "cell_type": "code",
   "execution_count": null,
   "metadata": {},
   "outputs": [],
   "source": []
  },
  {
   "cell_type": "code",
   "execution_count": null,
   "metadata": {},
   "outputs": [],
   "source": []
  },
  {
   "cell_type": "code",
   "execution_count": null,
   "metadata": {},
   "outputs": [],
   "source": []
  }
 ],
 "metadata": {
  "kernelspec": {
   "display_name": "Python 3",
   "language": "python",
   "name": "python3"
  },
  "language_info": {
   "codemirror_mode": {
    "name": "ipython",
    "version": 3
   },
   "file_extension": ".py",
   "mimetype": "text/x-python",
   "name": "python",
   "nbconvert_exporter": "python",
   "pygments_lexer": "ipython3",
   "version": "3.13.2"
  }
 },
 "nbformat": 4,
 "nbformat_minor": 2
}
