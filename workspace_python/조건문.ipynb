{
 "cells": [
  {
   "cell_type": "markdown",
   "metadata": {},
   "source": [
    "##### 조건문(if)"
   ]
  },
  {
   "cell_type": "code",
   "execution_count": null,
   "metadata": {},
   "outputs": [
    {
     "name": "stdout",
     "output_type": "stream",
     "text": [
      "1보다 큽니다\n",
      "2보다 작습니다\n"
     ]
    }
   ],
   "source": [
    "# 파이썬은 코드 뒤에 세미콜론 없다.\n",
    "# 파이썬 코드에는 중괄호 없다.\n",
    "# 파이썬은 들여쓰기로 영역을 결정한다. (공백이나 들여쓰기 2번해도 안됨)\n",
    "\n",
    "num1 = 3\n",
    "\n",
    "# if 조건문 : 결과\n",
    "if num1 > 1 :\n",
    "  print('1보다 큽니다')\n",
    "\n",
    "# 들여쓰기 안되어 마지막 print문은 출력이 된다.\n",
    "if num1 < 2 :\n",
    "  print('2보다 작습니다')\n",
    "print('2보다 작습니다')\n"
   ]
  },
  {
   "cell_type": "code",
   "execution_count": null,
   "metadata": {},
   "outputs": [
    {
     "name": "stdout",
     "output_type": "stream",
     "text": [
      "2\n"
     ]
    }
   ],
   "source": [
    "num1 = 5\n",
    "\n",
    "if num1 > 5 :\n",
    "  print(1)\n",
    "elif num1 <= 5 :\n",
    "  print(2)\n",
    "else :\n",
    "  print(3)\n"
   ]
  },
  {
   "cell_type": "code",
   "execution_count": null,
   "metadata": {},
   "outputs": [
    {
     "name": "stdout",
     "output_type": "stream",
     "text": [
      "참\n"
     ]
    }
   ],
   "source": [
    "scoreList = [80, 70, 60, 90]\n",
    "\n",
    "# scoreList에 90이 포함되어 있으면 '참'을 출력 (조건문에 in 사용)\n",
    "if 90 in scoreList :\n",
    "  print('참')"
   ]
  },
  {
   "cell_type": "code",
   "execution_count": null,
   "metadata": {},
   "outputs": [],
   "source": []
  },
  {
   "cell_type": "code",
   "execution_count": null,
   "metadata": {},
   "outputs": [],
   "source": []
  },
  {
   "cell_type": "code",
   "execution_count": null,
   "metadata": {},
   "outputs": [],
   "source": []
  },
  {
   "cell_type": "code",
   "execution_count": null,
   "metadata": {},
   "outputs": [],
   "source": []
  },
  {
   "cell_type": "code",
   "execution_count": null,
   "metadata": {},
   "outputs": [],
   "source": []
  },
  {
   "cell_type": "code",
   "execution_count": null,
   "metadata": {},
   "outputs": [],
   "source": []
  },
  {
   "cell_type": "code",
   "execution_count": null,
   "metadata": {},
   "outputs": [],
   "source": []
  },
  {
   "cell_type": "code",
   "execution_count": null,
   "metadata": {},
   "outputs": [],
   "source": []
  }
 ],
 "metadata": {
  "kernelspec": {
   "display_name": "Python 3",
   "language": "python",
   "name": "python3"
  },
  "language_info": {
   "codemirror_mode": {
    "name": "ipython",
    "version": 3
   },
   "file_extension": ".py",
   "mimetype": "text/x-python",
   "name": "python",
   "nbconvert_exporter": "python",
   "pygments_lexer": "ipython3",
   "version": "3.13.2"
  }
 },
 "nbformat": 4,
 "nbformat_minor": 2
}
